{
 "cells": [
  {
   "cell_type": "code",
   "execution_count": 1,
   "metadata": {},
   "outputs": [],
   "source": [
    "import requests"
   ]
  },
  {
   "cell_type": "code",
   "execution_count": 2,
   "metadata": {},
   "outputs": [],
   "source": [
    "import json"
   ]
  },
  {
   "cell_type": "code",
   "execution_count": 15,
   "metadata": {},
   "outputs": [],
   "source": [
    "import hashlib"
   ]
  },
  {
   "cell_type": "code",
   "execution_count": 3,
   "metadata": {},
   "outputs": [],
   "source": [
    "import time\n",
    "import datetime"
   ]
  },
  {
   "cell_type": "code",
   "execution_count": 4,
   "metadata": {},
   "outputs": [],
   "source": [
    "import pandas as pd"
   ]
  },
  {
   "cell_type": "code",
   "execution_count": 5,
   "metadata": {},
   "outputs": [],
   "source": [
    "from pandas import json_normalize"
   ]
  },
  {
   "cell_type": "code",
   "execution_count": 1,
   "metadata": {},
   "outputs": [],
   "source": [
    "public_key = \"610b393b9916a27ef65157375c2a232d\""
   ]
  },
  {
   "cell_type": "code",
   "execution_count": 2,
   "metadata": {},
   "outputs": [],
   "source": [
    "private_key = \"822bf29e9d9c7420dae63e4785e0b7ab5ddd81cf\""
   ]
  },
  {
   "cell_type": "code",
   "execution_count": 8,
   "metadata": {},
   "outputs": [],
   "source": [
    "public_key = public_key\n",
    "private_key = private_key\n",
    "timestamp = datetime.datetime.now()"
   ]
  },
  {
   "cell_type": "code",
   "execution_count": 13,
   "metadata": {},
   "outputs": [],
   "source": [
    "def hash_params():\n",
    "    hash_md5 = hashlib.md5()\n",
    "    hash_md5.update(f'{timestamp}{private_key}{public_key}'.encode('utf-8'))\n",
    "    hashe_params = hash_md5.hexdigest()\n",
    "    return hashe_params"
   ]
  },
  {
   "cell_type": "code",
   "execution_count": 10,
   "metadata": {},
   "outputs": [],
   "source": [
    "limit= 100\n"
   ]
  },
  {
   "cell_type": "code",
   "execution_count": 11,
   "metadata": {},
   "outputs": [],
   "source": [
    "url_1 = \"http://gateway.marvel.com/v1/public/characters\"\n"
   ]
  },
  {
   "cell_type": "code",
   "execution_count": 16,
   "metadata": {},
   "outputs": [],
   "source": [
    "import string\n",
    "\n",
    "\n",
    "blank_list =[]\n",
    "for i in string.ascii_uppercase:\n",
    "    nameStartsWith = i \n",
    "    parameters = { \"ts\": timestamp, \"apikey\": public_key, \"hash\": hash_params(),\n",
    "    \"nameStartsWith\": nameStartsWith, \"limit\": limit}\n",
    "    response = requests.get(url_1,params=parameters)\n",
    "    data_character = response.json()\n",
    "    df_character= pd.json_normalize(data_character,record_path=['data','results'])\n",
    "    blank_list.append(df_character)\n",
    "df_required = pd.concat(blank_list)\n",
    "\n"
   ]
  },
  {
   "cell_type": "code",
   "execution_count": 17,
   "metadata": {},
   "outputs": [
    {
     "data": {
      "text/plain": [
       "(1398, 24)"
      ]
     },
     "execution_count": 17,
     "metadata": {},
     "output_type": "execute_result"
    }
   ],
   "source": [
    "df_required.shape"
   ]
  },
  {
   "cell_type": "code",
   "execution_count": 18,
   "metadata": {},
   "outputs": [
    {
     "data": {
      "text/html": [
       "<div>\n",
       "<style scoped>\n",
       "    .dataframe tbody tr th:only-of-type {\n",
       "        vertical-align: middle;\n",
       "    }\n",
       "\n",
       "    .dataframe tbody tr th {\n",
       "        vertical-align: top;\n",
       "    }\n",
       "\n",
       "    .dataframe thead th {\n",
       "        text-align: right;\n",
       "    }\n",
       "</style>\n",
       "<table border=\"1\" class=\"dataframe\">\n",
       "  <thead>\n",
       "    <tr style=\"text-align: right;\">\n",
       "      <th></th>\n",
       "      <th>id</th>\n",
       "      <th>name</th>\n",
       "      <th>description</th>\n",
       "      <th>modified</th>\n",
       "      <th>resourceURI</th>\n",
       "      <th>urls</th>\n",
       "      <th>thumbnail.path</th>\n",
       "      <th>thumbnail.extension</th>\n",
       "      <th>comics.available</th>\n",
       "      <th>comics.collectionURI</th>\n",
       "      <th>...</th>\n",
       "      <th>series.items</th>\n",
       "      <th>series.returned</th>\n",
       "      <th>stories.available</th>\n",
       "      <th>stories.collectionURI</th>\n",
       "      <th>stories.items</th>\n",
       "      <th>stories.returned</th>\n",
       "      <th>events.available</th>\n",
       "      <th>events.collectionURI</th>\n",
       "      <th>events.items</th>\n",
       "      <th>events.returned</th>\n",
       "    </tr>\n",
       "  </thead>\n",
       "  <tbody>\n",
       "    <tr>\n",
       "      <th>0</th>\n",
       "      <td>1017100</td>\n",
       "      <td>A-Bomb (HAS)</td>\n",
       "      <td>Rick Jones has been Hulk's best bud since day ...</td>\n",
       "      <td>2013-09-18T15:54:04-0400</td>\n",
       "      <td>http://gateway.marvel.com/v1/public/characters...</td>\n",
       "      <td>[{'type': 'detail', 'url': 'http://marvel.com/...</td>\n",
       "      <td>http://i.annihil.us/u/prod/marvel/i/mg/3/20/52...</td>\n",
       "      <td>jpg</td>\n",
       "      <td>4</td>\n",
       "      <td>http://gateway.marvel.com/v1/public/characters...</td>\n",
       "      <td>...</td>\n",
       "      <td>[{'resourceURI': 'http://gateway.marvel.com/v1...</td>\n",
       "      <td>2</td>\n",
       "      <td>7</td>\n",
       "      <td>http://gateway.marvel.com/v1/public/characters...</td>\n",
       "      <td>[{'resourceURI': 'http://gateway.marvel.com/v1...</td>\n",
       "      <td>7</td>\n",
       "      <td>0</td>\n",
       "      <td>http://gateway.marvel.com/v1/public/characters...</td>\n",
       "      <td>[]</td>\n",
       "      <td>0</td>\n",
       "    </tr>\n",
       "    <tr>\n",
       "      <th>1</th>\n",
       "      <td>1009144</td>\n",
       "      <td>A.I.M.</td>\n",
       "      <td>AIM is a terrorist organization bent on destro...</td>\n",
       "      <td>2013-10-17T14:41:30-0400</td>\n",
       "      <td>http://gateway.marvel.com/v1/public/characters...</td>\n",
       "      <td>[{'type': 'detail', 'url': 'http://marvel.com/...</td>\n",
       "      <td>http://i.annihil.us/u/prod/marvel/i/mg/6/20/52...</td>\n",
       "      <td>jpg</td>\n",
       "      <td>51</td>\n",
       "      <td>http://gateway.marvel.com/v1/public/characters...</td>\n",
       "      <td>...</td>\n",
       "      <td>[{'resourceURI': 'http://gateway.marvel.com/v1...</td>\n",
       "      <td>20</td>\n",
       "      <td>54</td>\n",
       "      <td>http://gateway.marvel.com/v1/public/characters...</td>\n",
       "      <td>[{'resourceURI': 'http://gateway.marvel.com/v1...</td>\n",
       "      <td>20</td>\n",
       "      <td>0</td>\n",
       "      <td>http://gateway.marvel.com/v1/public/characters...</td>\n",
       "      <td>[]</td>\n",
       "      <td>0</td>\n",
       "    </tr>\n",
       "    <tr>\n",
       "      <th>2</th>\n",
       "      <td>1010699</td>\n",
       "      <td>Aaron Stack</td>\n",
       "      <td></td>\n",
       "      <td>1969-12-31T19:00:00-0500</td>\n",
       "      <td>http://gateway.marvel.com/v1/public/characters...</td>\n",
       "      <td>[{'type': 'detail', 'url': 'http://marvel.com/...</td>\n",
       "      <td>http://i.annihil.us/u/prod/marvel/i/mg/b/40/im...</td>\n",
       "      <td>jpg</td>\n",
       "      <td>14</td>\n",
       "      <td>http://gateway.marvel.com/v1/public/characters...</td>\n",
       "      <td>...</td>\n",
       "      <td>[{'resourceURI': 'http://gateway.marvel.com/v1...</td>\n",
       "      <td>3</td>\n",
       "      <td>27</td>\n",
       "      <td>http://gateway.marvel.com/v1/public/characters...</td>\n",
       "      <td>[{'resourceURI': 'http://gateway.marvel.com/v1...</td>\n",
       "      <td>20</td>\n",
       "      <td>0</td>\n",
       "      <td>http://gateway.marvel.com/v1/public/characters...</td>\n",
       "      <td>[]</td>\n",
       "      <td>0</td>\n",
       "    </tr>\n",
       "    <tr>\n",
       "      <th>3</th>\n",
       "      <td>1009146</td>\n",
       "      <td>Abomination (Emil Blonsky)</td>\n",
       "      <td>Formerly known as Emil Blonsky, a spy of Sovie...</td>\n",
       "      <td>2012-03-20T12:32:12-0400</td>\n",
       "      <td>http://gateway.marvel.com/v1/public/characters...</td>\n",
       "      <td>[{'type': 'detail', 'url': 'http://marvel.com/...</td>\n",
       "      <td>http://i.annihil.us/u/prod/marvel/i/mg/9/50/4c...</td>\n",
       "      <td>jpg</td>\n",
       "      <td>55</td>\n",
       "      <td>http://gateway.marvel.com/v1/public/characters...</td>\n",
       "      <td>...</td>\n",
       "      <td>[{'resourceURI': 'http://gateway.marvel.com/v1...</td>\n",
       "      <td>20</td>\n",
       "      <td>65</td>\n",
       "      <td>http://gateway.marvel.com/v1/public/characters...</td>\n",
       "      <td>[{'resourceURI': 'http://gateway.marvel.com/v1...</td>\n",
       "      <td>20</td>\n",
       "      <td>1</td>\n",
       "      <td>http://gateway.marvel.com/v1/public/characters...</td>\n",
       "      <td>[{'resourceURI': 'http://gateway.marvel.com/v1...</td>\n",
       "      <td>1</td>\n",
       "    </tr>\n",
       "    <tr>\n",
       "      <th>4</th>\n",
       "      <td>1016823</td>\n",
       "      <td>Abomination (Ultimate)</td>\n",
       "      <td></td>\n",
       "      <td>2012-07-10T19:11:52-0400</td>\n",
       "      <td>http://gateway.marvel.com/v1/public/characters...</td>\n",
       "      <td>[{'type': 'detail', 'url': 'http://marvel.com/...</td>\n",
       "      <td>http://i.annihil.us/u/prod/marvel/i/mg/b/40/im...</td>\n",
       "      <td>jpg</td>\n",
       "      <td>2</td>\n",
       "      <td>http://gateway.marvel.com/v1/public/characters...</td>\n",
       "      <td>...</td>\n",
       "      <td>[{'resourceURI': 'http://gateway.marvel.com/v1...</td>\n",
       "      <td>2</td>\n",
       "      <td>3</td>\n",
       "      <td>http://gateway.marvel.com/v1/public/characters...</td>\n",
       "      <td>[{'resourceURI': 'http://gateway.marvel.com/v1...</td>\n",
       "      <td>3</td>\n",
       "      <td>0</td>\n",
       "      <td>http://gateway.marvel.com/v1/public/characters...</td>\n",
       "      <td>[]</td>\n",
       "      <td>0</td>\n",
       "    </tr>\n",
       "  </tbody>\n",
       "</table>\n",
       "<p>5 rows × 24 columns</p>\n",
       "</div>"
      ],
      "text/plain": [
       "        id                        name  \\\n",
       "0  1017100                A-Bomb (HAS)   \n",
       "1  1009144                      A.I.M.   \n",
       "2  1010699                 Aaron Stack   \n",
       "3  1009146  Abomination (Emil Blonsky)   \n",
       "4  1016823      Abomination (Ultimate)   \n",
       "\n",
       "                                         description  \\\n",
       "0  Rick Jones has been Hulk's best bud since day ...   \n",
       "1  AIM is a terrorist organization bent on destro...   \n",
       "2                                                      \n",
       "3  Formerly known as Emil Blonsky, a spy of Sovie...   \n",
       "4                                                      \n",
       "\n",
       "                   modified  \\\n",
       "0  2013-09-18T15:54:04-0400   \n",
       "1  2013-10-17T14:41:30-0400   \n",
       "2  1969-12-31T19:00:00-0500   \n",
       "3  2012-03-20T12:32:12-0400   \n",
       "4  2012-07-10T19:11:52-0400   \n",
       "\n",
       "                                         resourceURI  \\\n",
       "0  http://gateway.marvel.com/v1/public/characters...   \n",
       "1  http://gateway.marvel.com/v1/public/characters...   \n",
       "2  http://gateway.marvel.com/v1/public/characters...   \n",
       "3  http://gateway.marvel.com/v1/public/characters...   \n",
       "4  http://gateway.marvel.com/v1/public/characters...   \n",
       "\n",
       "                                                urls  \\\n",
       "0  [{'type': 'detail', 'url': 'http://marvel.com/...   \n",
       "1  [{'type': 'detail', 'url': 'http://marvel.com/...   \n",
       "2  [{'type': 'detail', 'url': 'http://marvel.com/...   \n",
       "3  [{'type': 'detail', 'url': 'http://marvel.com/...   \n",
       "4  [{'type': 'detail', 'url': 'http://marvel.com/...   \n",
       "\n",
       "                                      thumbnail.path thumbnail.extension  \\\n",
       "0  http://i.annihil.us/u/prod/marvel/i/mg/3/20/52...                 jpg   \n",
       "1  http://i.annihil.us/u/prod/marvel/i/mg/6/20/52...                 jpg   \n",
       "2  http://i.annihil.us/u/prod/marvel/i/mg/b/40/im...                 jpg   \n",
       "3  http://i.annihil.us/u/prod/marvel/i/mg/9/50/4c...                 jpg   \n",
       "4  http://i.annihil.us/u/prod/marvel/i/mg/b/40/im...                 jpg   \n",
       "\n",
       "   comics.available                               comics.collectionURI  ...  \\\n",
       "0                 4  http://gateway.marvel.com/v1/public/characters...  ...   \n",
       "1                51  http://gateway.marvel.com/v1/public/characters...  ...   \n",
       "2                14  http://gateway.marvel.com/v1/public/characters...  ...   \n",
       "3                55  http://gateway.marvel.com/v1/public/characters...  ...   \n",
       "4                 2  http://gateway.marvel.com/v1/public/characters...  ...   \n",
       "\n",
       "                                        series.items  series.returned  \\\n",
       "0  [{'resourceURI': 'http://gateway.marvel.com/v1...                2   \n",
       "1  [{'resourceURI': 'http://gateway.marvel.com/v1...               20   \n",
       "2  [{'resourceURI': 'http://gateway.marvel.com/v1...                3   \n",
       "3  [{'resourceURI': 'http://gateway.marvel.com/v1...               20   \n",
       "4  [{'resourceURI': 'http://gateway.marvel.com/v1...                2   \n",
       "\n",
       "   stories.available                              stories.collectionURI  \\\n",
       "0                  7  http://gateway.marvel.com/v1/public/characters...   \n",
       "1                 54  http://gateway.marvel.com/v1/public/characters...   \n",
       "2                 27  http://gateway.marvel.com/v1/public/characters...   \n",
       "3                 65  http://gateway.marvel.com/v1/public/characters...   \n",
       "4                  3  http://gateway.marvel.com/v1/public/characters...   \n",
       "\n",
       "                                       stories.items  stories.returned  \\\n",
       "0  [{'resourceURI': 'http://gateway.marvel.com/v1...                 7   \n",
       "1  [{'resourceURI': 'http://gateway.marvel.com/v1...                20   \n",
       "2  [{'resourceURI': 'http://gateway.marvel.com/v1...                20   \n",
       "3  [{'resourceURI': 'http://gateway.marvel.com/v1...                20   \n",
       "4  [{'resourceURI': 'http://gateway.marvel.com/v1...                 3   \n",
       "\n",
       "   events.available                               events.collectionURI  \\\n",
       "0                 0  http://gateway.marvel.com/v1/public/characters...   \n",
       "1                 0  http://gateway.marvel.com/v1/public/characters...   \n",
       "2                 0  http://gateway.marvel.com/v1/public/characters...   \n",
       "3                 1  http://gateway.marvel.com/v1/public/characters...   \n",
       "4                 0  http://gateway.marvel.com/v1/public/characters...   \n",
       "\n",
       "                                        events.items  events.returned  \n",
       "0                                                 []                0  \n",
       "1                                                 []                0  \n",
       "2                                                 []                0  \n",
       "3  [{'resourceURI': 'http://gateway.marvel.com/v1...                1  \n",
       "4                                                 []                0  \n",
       "\n",
       "[5 rows x 24 columns]"
      ]
     },
     "execution_count": 18,
     "metadata": {},
     "output_type": "execute_result"
    }
   ],
   "source": [
    "df_required.head(5)"
   ]
  },
  {
   "cell_type": "code",
   "execution_count": 20,
   "metadata": {},
   "outputs": [],
   "source": [
    "df_new = df_required[['id','name','comics.available','stories.available','events.available']]"
   ]
  },
  {
   "cell_type": "code",
   "execution_count": 21,
   "metadata": {},
   "outputs": [
    {
     "data": {
      "text/html": [
       "<div>\n",
       "<style scoped>\n",
       "    .dataframe tbody tr th:only-of-type {\n",
       "        vertical-align: middle;\n",
       "    }\n",
       "\n",
       "    .dataframe tbody tr th {\n",
       "        vertical-align: top;\n",
       "    }\n",
       "\n",
       "    .dataframe thead th {\n",
       "        text-align: right;\n",
       "    }\n",
       "</style>\n",
       "<table border=\"1\" class=\"dataframe\">\n",
       "  <thead>\n",
       "    <tr style=\"text-align: right;\">\n",
       "      <th></th>\n",
       "      <th>id</th>\n",
       "      <th>name</th>\n",
       "      <th>comics.available</th>\n",
       "      <th>stories.available</th>\n",
       "      <th>events.available</th>\n",
       "    </tr>\n",
       "  </thead>\n",
       "  <tbody>\n",
       "    <tr>\n",
       "      <th>0</th>\n",
       "      <td>1017100</td>\n",
       "      <td>A-Bomb (HAS)</td>\n",
       "      <td>4</td>\n",
       "      <td>7</td>\n",
       "      <td>0</td>\n",
       "    </tr>\n",
       "    <tr>\n",
       "      <th>1</th>\n",
       "      <td>1009144</td>\n",
       "      <td>A.I.M.</td>\n",
       "      <td>51</td>\n",
       "      <td>54</td>\n",
       "      <td>0</td>\n",
       "    </tr>\n",
       "    <tr>\n",
       "      <th>2</th>\n",
       "      <td>1010699</td>\n",
       "      <td>Aaron Stack</td>\n",
       "      <td>14</td>\n",
       "      <td>27</td>\n",
       "      <td>0</td>\n",
       "    </tr>\n",
       "    <tr>\n",
       "      <th>3</th>\n",
       "      <td>1009146</td>\n",
       "      <td>Abomination (Emil Blonsky)</td>\n",
       "      <td>55</td>\n",
       "      <td>65</td>\n",
       "      <td>1</td>\n",
       "    </tr>\n",
       "  </tbody>\n",
       "</table>\n",
       "</div>"
      ],
      "text/plain": [
       "        id                        name  comics.available  stories.available  \\\n",
       "0  1017100                A-Bomb (HAS)                 4                  7   \n",
       "1  1009144                      A.I.M.                51                 54   \n",
       "2  1010699                 Aaron Stack                14                 27   \n",
       "3  1009146  Abomination (Emil Blonsky)                55                 65   \n",
       "\n",
       "   events.available  \n",
       "0                 0  \n",
       "1                 0  \n",
       "2                 0  \n",
       "3                 1  "
      ]
     },
     "execution_count": 21,
     "metadata": {},
     "output_type": "execute_result"
    }
   ],
   "source": [
    "df_new.head(4)"
   ]
  },
  {
   "cell_type": "code",
   "execution_count": null,
   "metadata": {},
   "outputs": [],
   "source": []
  },
  {
   "cell_type": "markdown",
   "metadata": {},
   "source": []
  },
  {
   "cell_type": "code",
   "execution_count": null,
   "metadata": {},
   "outputs": [],
   "source": []
  }
 ],
 "metadata": {
  "kernelspec": {
   "display_name": "Python 3.10.6 64-bit",
   "language": "python",
   "name": "python3"
  },
  "language_info": {
   "codemirror_mode": {
    "name": "ipython",
    "version": 3
   },
   "file_extension": ".py",
   "mimetype": "text/x-python",
   "name": "python",
   "nbconvert_exporter": "python",
   "pygments_lexer": "ipython3",
   "version": "3.10.6"
  },
  "orig_nbformat": 4,
  "vscode": {
   "interpreter": {
    "hash": "3196968d684371006099b3d55edeef8ed90365227a30deaef86e5d4aa8519be0"
   }
  }
 },
 "nbformat": 4,
 "nbformat_minor": 2
}
